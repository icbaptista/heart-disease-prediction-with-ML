{
 "cells": [
  {
   "cell_type": "markdown",
   "id": "36440cb8",
   "metadata": {},
   "source": [
    "# Data preprocessing"
   ]
  },
  {
   "cell_type": "code",
   "execution_count": 1,
   "id": "acf47289",
   "metadata": {
    "scrolled": true
   },
   "outputs": [],
   "source": [
    "import numpy as np\n",
    "import pandas as pd\n",
    "import matplotlib.pyplot as plt\n",
    "import seaborn as sns"
   ]
  },
  {
   "cell_type": "code",
   "execution_count": 2,
   "id": "a7e4d85b",
   "metadata": {
    "scrolled": true
   },
   "outputs": [
    {
     "name": "stdout",
     "output_type": "stream",
     "text": [
      "Num features: 13\n",
      "Num examples: 297\n",
      "\n",
      "    age  sex  chestPainType  restingBP  serumCholesterol  fastingBloodSugar  \\\n",
      "0  63.0  1.0            1.0      145.0             233.0                1.0   \n",
      "1  67.0  1.0            4.0      160.0             286.0                0.0   \n",
      "2  67.0  1.0            4.0      120.0             229.0                0.0   \n",
      "3  37.0  1.0            3.0      130.0             250.0                0.0   \n",
      "4  41.0  0.0            2.0      130.0             204.0                0.0   \n",
      "\n",
      "   restingEcg  maxHeartRate  exerciseInducedAngina  stDepression  stSlope  \\\n",
      "0         2.0         150.0                    0.0           2.3      3.0   \n",
      "1         2.0         108.0                    1.0           1.5      2.0   \n",
      "2         2.0         129.0                    1.0           2.6      2.0   \n",
      "3         0.0         187.0                    0.0           3.5      3.0   \n",
      "4         2.0         172.0                    0.0           1.4      1.0   \n",
      "\n",
      "   majorVessels  thalassemia  diagnosis  \n",
      "0           0.0          6.0          0  \n",
      "1           3.0          3.0          1  \n",
      "2           2.0          7.0          1  \n",
      "3           0.0          3.0          0  \n",
      "4           0.0          3.0          0  \n"
     ]
    }
   ],
   "source": [
    "# Column 1: age in years\n",
    "# Column 2: 1 = male, 0 = female\n",
    "# Column 3: 1 = typical angina, 2 = atypical angina, 3 = non-anginal pain, 4 = asymptomatic\n",
    "# Column 4: resting blood pressure in mmHg\n",
    "# Column 5: cholesterol in mg/dl\n",
    "# Column 6: 1 means > 120 mg/dl, 0 means <= 120 mg/dl\n",
    "# Column 7: resting electrocardiographic, 0 = normal, 1 = having ST-T wave abnormality, 2 = showing probable or definite left ventricular hypertrophy by Estes' criteria\n",
    "# Column 8: max heart rate achieved\n",
    "# Column 9: 1 = yes, 2 = no\n",
    "# Column 10: ST depression induced by exercise relative to rest\n",
    "# Column 11: slope of the peak exercise ST segment, 1 = upsloping, 2 = flat, 3 = downsloping\n",
    "# Column 12: number of major vessels (0-3) colored by flourosopy\n",
    "# Column 13: 3 = normal, 6 = fixed defect, 7 = reversable defect\n",
    "# Column 14: >=1 means heart disease, 0 = no heart disease\n",
    "\n",
    "myNames = [\"age\", # column 1\n",
    "        \"sex\", # col 2\n",
    "        \"chestPainType\", # col 3\n",
    "        \"restingBP\", # col 4\n",
    "        \"serumCholesterol\", # col 5\n",
    "        \"fastingBloodSugar\", # col 6\n",
    "        \"restingEcg\", # col 7\n",
    "        \"maxHeartRate\", # col 8\n",
    "        \"exerciseInducedAngina\", # col 9\n",
    "        \"stDepression\", # col 10\n",
    "        \"stSlope\", # col 11\n",
    "        \"majorVessels\", # col 12\n",
    "        \"thalassemia\", # col 13\n",
    "        \"diagnosis\"] # col 14\n",
    "assert len(myNames) == 14\n",
    "\n",
    "data=pd.read_csv(\"data/processed.cleveland.data\", sep=',', names=myNames, na_values=[\"?\", '?'])\n",
    "data = data.dropna() # Drop rows with missing data\n",
    "data.iloc[:, -1] = data.iloc[:, -1].clip(0, 1) # clip last column (output) between 0 and 1, both inclusive\n",
    "\n",
    "# Convert all columns to float\n",
    "for name in myNames:\n",
    "    data[name] = pd.to_numeric(data[name],errors = 'coerce')\n",
    "\n",
    "m = data.shape[0] # num examples\n",
    "n = data.shape[1] - 1 # num features\n",
    "\n",
    "print(\"Num features:\", n)\n",
    "print(\"Num examples:\", m)\n",
    "    \n",
    "# a few examples from the dataset \n",
    "print()\n",
    "print(data.head())\n",
    "\n",
    "X = data.values[:, :-1]\n",
    "y = data.values[:, -1:]\n",
    "\n",
    "\n",
    "\n",
    "categoricalColumnsNames = [\"sex\", \n",
    "                      \"chestPainType\", \n",
    "                      \"fastingBloodSugar\", \n",
    "                      \"restingEcg\", \n",
    "                      \"exerciseInducedAngina\", \n",
    "                      \"stSlope\",\n",
    "                      \"majorVessels\",\n",
    "                      \"thalassemia\"]\n",
    "continuousColumns = data.drop(categoricalColumnsNames, axis=1)\n",
    "continuousColumnsNames = [name for name in myNames if name not in categoricalColumnsNames and name != \"diagnosis\"]\n",
    "categoricalColumns = data.drop(continuousColumnsNames, axis=1)\n",
    "if \"diagnosis\" in continuousColumns:\n",
    "    continuousColumns = continuousColumns.drop(\"diagnosis\", axis=1)\n",
    "if \"diagnosis\" not in categoricalColumns:\n",
    "    categoricalColumns = data[\"diagnosis\"]\n"
   ]
  },
  {
   "cell_type": "code",
   "execution_count": 3,
   "id": "21cf6d31",
   "metadata": {
    "scrolled": false
   },
   "outputs": [
    {
     "name": "stdout",
     "output_type": "stream",
     "text": [
      "Output=1 (has heart disease): 46% (137/297)\n",
      "Output=0 (no heart disease): 54% (160/297)\n"
     ]
    },
    {
     "data": {
      "image/png": "[encoded data removed]",
      "text/plain": [
       "<Figure size 640x480 with 1 Axes>"
      ]
     },
     "metadata": {},
     "output_type": "display_data"
    }
   ],
   "source": [
    "# Output distribution\n",
    "output = data.values[:, -1]\n",
    "numHeartDisease = np.count_nonzero(output == 1)\n",
    "percentageHeartDisease = numHeartDisease / len(output) * 100\n",
    "print(f\"Output=1 (has heart disease): {round(percentageHeartDisease)}% ({numHeartDisease}/{output.shape[0]})\")\n",
    "numNoDisease = output.shape[0] - numHeartDisease\n",
    "percentageNoDisease = 100 - percentageHeartDisease\n",
    "print(f\"Output=0 (no heart disease): {round(percentageNoDisease)}% ({numNoDisease}/{output.shape[0]})\")\n",
    "\n",
    "labels = ['Has heart disease', 'No heart disease']\n",
    "sizes = [numHeartDisease, numNoDisease]\n",
    "colors = ['#ff0000', '#00ff00']\n",
    "\n",
    "def autopct_format(pct, sizes):\n",
    "    idx = int(pct/100. * len(sizes))\n",
    "    return '{:.1f}%\\n({:d})'.format(pct, sizes[idx]).strip()\n",
    "\n",
    "plt.pie(sizes, \n",
    "        colors=colors, \n",
    "        labels=labels, \n",
    "        autopct=lambda pct: autopct_format(pct, sizes), \n",
    "        startangle=90,\n",
    "        textprops={'fontsize': 13})\n",
    "\n",
    "plt.title('Output Distribution', fontsize=13)\n",
    "plt.show()"
   ]
  },
  {
   "cell_type": "code",
   "execution_count": null,
   "id": "0f511515",
   "metadata": {
    "scrolled": true
   },
   "outputs": [],
   "source": [
    "# Gender distribution\n",
    "gender = data.values[:, 1]\n",
    "maleCount = np.count_nonzero(gender == 1)\n",
    "percentageMales = maleCount / len(gender) * 100\n",
    "print(f\"Males: {round(percentageMales)}% ({maleCount}/{gender.shape[0]})\")\n",
    "femaleCount = gender.shape[0] - maleCount\n",
    "percentageFemales = 100 - percentageMales\n",
    "print(f\"Females: {round(percentageFemales)}% ({femaleCount}/{gender.shape[0]})\")\n",
    "\n",
    "labels = ['Female', 'Male']\n",
    "sizes = [femaleCount, maleCount]\n",
    "colors = ['#ff9999', '#66b3ff']\n",
    "\n",
    "def autopct_format(pct, sizes):\n",
    "    idx = int(pct/100. * len(sizes))\n",
    "    return '{:.1f}%\\n({:d})'.format(pct, sizes[idx]).strip()\n",
    "\n",
    "plt.pie(sizes, \n",
    "        colors=colors, \n",
    "        labels=labels, \n",
    "        autopct=lambda pct: autopct_format(pct, sizes), \n",
    "        startangle=90,\n",
    "        textprops={'fontsize': 13})\n",
    "\n",
    "plt.title('Gender Distribution', fontsize=13)\n",
    "plt.show()"
   ]
  },
  {
   "cell_type": "code",
   "execution_count": null,
   "id": "86e9f953",
   "metadata": {
    "scrolled": false
   },
   "outputs": [],
   "source": [
    "# Ages distribution\n",
    "bins = range(20, 90, 5) # Define 5 year intervals (last arg) from 20 to 85\n",
    "plt.hist(data.values[:,0], bins=bins, edgecolor=\"black\")\n",
    "plt.xlabel(\"Age in years\")\n",
    "plt.ylabel(\"Num people\")\n",
    "plt.xticks(bins)\n",
    "plt.title(\"Ages distribution\")\n",
    "plt.show()"
   ]
  },
  {
   "cell_type": "markdown",
   "id": "d3995dec",
   "metadata": {},
   "source": [
    "# Categorical features (individual)"
   ]
  },
  {
   "cell_type": "code",
   "execution_count": null,
   "id": "b13b09be",
   "metadata": {
    "scrolled": true
   },
   "outputs": [],
   "source": [
    "# Bar chart for each categorical feature\n",
    "\n",
    "# Set the style of the plots\n",
    "sns.set(style='whitegrid')\n",
    "\n",
    "num_cols = len(categoricalColumns.columns)\n",
    "num_rows = (num_cols + 1) // 2\n",
    "fig, axes = plt.subplots(nrows=num_rows-1, ncols=2, figsize=(12, 6*(num_rows-1)))  # Update the number of rows and figsize\n",
    "myPalette = {0:\"green\", 1:\"red\"}\n",
    "\n",
    "for i in range(num_rows-1):  # Update the number of rows to loop through\n",
    "    for j in range(2):\n",
    "        if 2*i + j < num_cols:\n",
    "            col = categoricalColumns.columns[2*i + j]\n",
    "            sns.countplot(x=col, hue='diagnosis', data=data, ax=axes[i, j], palette=myPalette)\n",
    "            axes[i, j].set_xlabel(col, fontsize=20)\n",
    "            axes[i, j].set_ylabel('Count', fontsize=20)\n",
    "            axes[i, j].tick_params(axis='both', which='major', labelsize=18)\n",
    "            xticks, xticklabels = plt.xticks()\n",
    "            plt.xticks(xticks, xticklabels, fontsize=18)\n",
    "            leg = axes[i, j].legend(fontsize=18)  # increase font size of legend\n",
    "            leg.set_title('Diagnosis', prop={'size': 18})  # increase font size of legend title\n",
    "    \n",
    "plt.tight_layout()\n",
    "plt.show()"
   ]
  },
  {
   "cell_type": "markdown",
   "id": "0e5b8a4b",
   "metadata": {},
   "source": [
    "# Numeric features (individual)"
   ]
  },
  {
   "cell_type": "code",
   "execution_count": null,
   "id": "bd70b8a9",
   "metadata": {
    "scrolled": false
   },
   "outputs": [],
   "source": [
    "# Plot for each continuous feature\n",
    "\n",
    "# Calculate the number of rows and columns needed to fit all the plots\n",
    "n_cols = 2\n",
    "n_rows = (len(continuousColumns) + 1) // 2  # Round up if necessary\n",
    "my_palette = {0: \"green\", 1: \"red\"}\n",
    "\n",
    "# Create a subplot grid with the specified number of rows and columns\n",
    "fig, axes = plt.subplots(n_rows, n_cols, figsize=(12, 500))\n",
    "\n",
    "# Flatten the axes array to iterate over the subplots\n",
    "axes = axes.flatten()\n",
    "\n",
    "# Iterate over the continuous columns and create a histogram for each one\n",
    "for i, col in enumerate(continuousColumnsNames):\n",
    "    sns.histplot(data=data, \n",
    "                 x=col, \n",
    "                 hue='diagnosis', \n",
    "                 kde=True, \n",
    "                 multiple='stack', \n",
    "                 alpha=0.7, \n",
    "                 palette=my_palette, \n",
    "                 ax=axes[i])\n",
    "    #axes[i].set_title(col)\n",
    "    axes[i].set_xlabel(col, fontsize=18)\n",
    "    axes[i].set_ylabel('Count', fontsize=18)\n",
    "    axes[i].tick_params(axis='both', which='major', labelsize=15)\n",
    "    xticks, xticklabels = plt.xticks()\n",
    "    plt.xticks(xticks, xticklabels, fontsize=15)\n",
    "\n",
    "# Remove any unused subplots\n",
    "for j in range(i+1, len(axes)):\n",
    "    fig.delaxes(axes[j])\n",
    "    \n",
    "# Show the plots\n",
    "plt.tight_layout()\n",
    "plt.show()"
   ]
  },
  {
   "cell_type": "markdown",
   "id": "21bfa6e8",
   "metadata": {},
   "source": [
    "# Each feature vs each feature analysis"
   ]
  },
  {
   "cell_type": "markdown",
   "id": "8952a035",
   "metadata": {},
   "source": [
    "**Continuous feature vs continuous feature**"
   ]
  },
  {
   "cell_type": "code",
   "execution_count": null,
   "id": "cfad5dce",
   "metadata": {
    "scrolled": true
   },
   "outputs": [],
   "source": [
    "# Scatter matrix (used for continuous features)\n",
    "\n",
    "# In last column, replace 0's by \"No heart disesase\" and 1's by \"Heart disease\"\n",
    "continuousColumnsWithOutput = continuousColumns.copy()\n",
    "continuousColumnsWithOutput[\"diagnosis\"] = data[\"diagnosis\"]\n",
    "dictReplace = {0: \"No heart disease\", 1: \"Heart disease\"}\n",
    "continuousColumnsWithOutput[\"diagnosis\"] = continuousColumnsWithOutput[\"diagnosis\"].replace(dictReplace)\n",
    "\n",
    "sns.set(font_scale=1.25)\n",
    "myPalette = {\"No heart disease\":\"green\", \"Heart disease\":\"red\"}\n",
    "matrix = sns.pairplot(\n",
    "    continuousColumnsWithOutput, \n",
    "    hue=\"diagnosis\", \n",
    "    palette=myPalette,\n",
    "    diag_kws={'legend': False})\n",
    "matrix._legend.remove()\n",
    "plt.show()\n",
    "sns.set(font_scale=1)"
   ]
  },
  {
   "cell_type": "code",
   "execution_count": null,
   "id": "18a3cc05",
   "metadata": {
    "scrolled": true
   },
   "outputs": [],
   "source": [
    "# Correlation heatmap (used for continuous features)\n",
    "plt.figure(figsize=(4, 4))\n",
    "sns.heatmap(continuousColumns.corr(), cmap='Blues', annot=True, fmt=\".2f\")\n",
    "plt.title(\"Correlation heatmap for continuous features\")\n",
    "plt.show()"
   ]
  },
  {
   "cell_type": "markdown",
   "id": "7d3b4e4d",
   "metadata": {},
   "source": [
    "**Continuous feature vs categorical feature**"
   ]
  },
  {
   "cell_type": "code",
   "execution_count": null,
   "id": "d6468c27",
   "metadata": {
    "scrolled": true
   },
   "outputs": [],
   "source": [
    "# Box plot matrix (continuous feature vs categorical feature)\n",
    "def makeBoxMatrix(argCategoricalColumns):\n",
    "    # Create a figure and axes for the subplots\n",
    "    num_continuous = len(continuousColumns.columns)\n",
    "    num_categorical = len(argCategoricalColumns.columns)\n",
    "    fig, axes = plt.subplots(num_continuous,\n",
    "                             num_categorical,\n",
    "                             figsize=(3*num_categorical, 3*num_continuous),\n",
    "                             sharex=False,\n",
    "                             sharey='row')\n",
    "    myPalette = {0:\"green\", 1:\"red\"}\n",
    "    \n",
    "    # Loop over each pair of continuous and categorical columns and create a box plot\n",
    "    for i, cont_col in enumerate(continuousColumns.columns):\n",
    "        for j, cat_col in enumerate(argCategoricalColumns.columns):\n",
    "            sns.boxplot(x=cat_col, y=cont_col, data=data, ax=axes[i, j], hue='diagnosis', palette=myPalette)\n",
    "            \"\"\"\n",
    "            if i == num_continuous - 1:\n",
    "                axes[i, j].set_xlabel(cat_col)\n",
    "            else:\n",
    "                axes[i, j].set_xlabel('')\n",
    "            \"\"\"\n",
    "            axes[i, j].set_xlabel(cat_col)\n",
    "            if j == 0:\n",
    "                axes[i, j].set_ylabel(cont_col)\n",
    "            else:\n",
    "                axes[i, j].set_ylabel('')\n",
    "\n",
    "    plt.tight_layout()\n",
    "    plt.show()\n",
    "\n",
    "makeBoxMatrix(categoricalColumns.iloc[:, :3])\n",
    "makeBoxMatrix(categoricalColumns.iloc[:, 3:6])\n",
    "makeBoxMatrix(categoricalColumns.iloc[:, 6:])"
   ]
  },
  {
   "cell_type": "code",
   "execution_count": null,
   "id": "78562182",
   "metadata": {
    "scrolled": false
   },
   "outputs": [],
   "source": [
    "# Correlation heatmap between continuous and categorical features\n",
    "\n",
    "from scipy.stats import pointbiserialr\n",
    "\n",
    "# Initialize a dataframe to store the correlation coefficients\n",
    "corr_matrix = pd.DataFrame(index=categoricalColumns.columns, columns=continuousColumns.columns)\n",
    "\n",
    "# Compute the correlation coefficients\n",
    "for categorical_feature in categoricalColumns.columns:\n",
    "    for continuous_feature in continuousColumns.columns:\n",
    "        corr, pvalue = pointbiserialr(categoricalColumns[categorical_feature], continuousColumns[continuous_feature])\n",
    "        corr_matrix.loc[categorical_feature, continuous_feature] = corr\n",
    "        \n",
    "# Convert the correlation matrix to a numeric datatype\n",
    "corr_matrix = corr_matrix.astype(float)\n",
    "\n",
    "# Create a heatmap using Seaborn\n",
    "sns.heatmap(corr_matrix, annot=True, cmap='Blues')\n",
    "\n",
    "plt.title(\"Point-biserial correlation heatmap between categorical and continuous features\")\n",
    "plt.show()"
   ]
  },
  {
   "cell_type": "markdown",
   "id": "746b4017",
   "metadata": {},
   "source": [
    "**Categorical feature vs categorical feature**"
   ]
  },
  {
   "cell_type": "code",
   "execution_count": null,
   "id": "315fa4dc",
   "metadata": {
    "scrolled": true
   },
   "outputs": [],
   "source": [
    "# Heatmap for each categorical feature vs each categorical feature\n",
    "# Number in cell is how many diagnosis=1\n",
    "\n",
    "data['diagnosis_binary'] = (data['diagnosis'] == 1).astype(int)\n",
    "sns.set(font_scale=1.25)\n",
    "\n",
    "# 8 categorical features choose 2 = 28, we will have 28 plots\n",
    "fig, axes = plt.subplots(nrows=10, ncols=3, figsize=(10,25))\n",
    "#fig.subplots_adjust(hspace=5) # Add space between subplots\n",
    "currentRow = 0\n",
    "currentCol = 0\n",
    "for i, col1 in enumerate(categoricalColumnsNames):\n",
    "    for j, col2 in enumerate(categoricalColumnsNames):\n",
    "        if i < j:            \n",
    "            pivot_table = pd.pivot_table(data, \n",
    "                                         values='diagnosis_binary', \n",
    "                                         index=col1, \n",
    "                                         columns=col2,\n",
    "                                         aggfunc=sum,\n",
    "                                         fill_value=0)\n",
    "            \n",
    "            # Plot the pivot table as a heatmap matrix\n",
    "            sns.heatmap(pivot_table, annot=True, fmt='g', \n",
    "                        cmap='RdYlGn_r', cbar=False, \n",
    "                        center=0, vmin=0, vmax=pivot_table.values.max(), \n",
    "                        ax=axes[currentRow, currentCol])\n",
    "            \n",
    "            axes[currentRow, currentCol].set_xlabel(col2)\n",
    "            currentCol += 1\n",
    "            if currentCol > 2:\n",
    "                currentRow += 1\n",
    "                currentCol = 0\n",
    "                \n",
    "fig.delaxes(axes[9,1])\n",
    "fig.delaxes(axes[9,2])\n",
    "plt.tight_layout() # fix space between plots\n",
    "plt.show()\n",
    "            \n",
    "data = data.drop(\"diagnosis_binary\",axis=1)\n",
    "sns.set(font_scale=1)"
   ]
  },
  {
   "cell_type": "code",
   "execution_count": null,
   "id": "36f799f7",
   "metadata": {
    "scrolled": false
   },
   "outputs": [],
   "source": [
    "# Correlation heatmap for each pair of categorical features\n",
    "\n",
    "from scipy.stats import chi2_contingency\n",
    "\n",
    "categoricalColumns[\"diagnosis\"] = data[\"diagnosis\"]\n",
    "corr_matrix = np.zeros((len(categoricalColumns.columns), len(categoricalColumns.columns)))\n",
    "for i, feature1 in enumerate(categoricalColumns.columns):\n",
    "    for j, feature2 in enumerate(categoricalColumns.columns):\n",
    "        if i != j:\n",
    "            contingency_table = pd.crosstab(categoricalColumns[feature1], categoricalColumns[feature2])\n",
    "            chi2_stat, _, _, _ = chi2_contingency(contingency_table)\n",
    "            n = contingency_table.sum().sum()\n",
    "            corr_matrix[i, j] = np.sqrt(chi2_stat / (n * min(contingency_table.shape) - 1))\n",
    "\n",
    "# Plot correlation heatmap\n",
    "sns.heatmap(corr_matrix, xticklabels=categoricalColumns.columns, yticklabels=categoricalColumns.columns, cmap='Blues', annot=True, fmt='.2f')\n",
    "plt.title(\"Correlation heatmap for categorical features using Cramer's V measure\")\n",
    "plt.show()\n",
    "categoricalColumns = categoricalColumns.drop(\"diagnosis\", axis=1)"
   ]
  },
  {
   "cell_type": "code",
   "execution_count": null,
   "id": "e1ff68b2",
   "metadata": {
    "scrolled": false
   },
   "outputs": [],
   "source": []
  }
 ],
 "metadata": {
  "kernelspec": {
   "display_name": "Python 3 (ipykernel)",
   "language": "python",
   "name": "python3"
  },
  "language_info": {
   "codemirror_mode": {
    "name": "ipython",
    "version": 3
   },
   "file_extension": ".py",
   "mimetype": "text/x-python",
   "name": "python",
   "nbconvert_exporter": "python",
   "pygments_lexer": "ipython3",
   "version": "3.11.2"
  }
 },
 "nbformat": 4,
 "nbformat_minor": 5
}
