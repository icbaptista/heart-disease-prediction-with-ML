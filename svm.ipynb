{
 "cells": [
  {
   "attachments": {},
   "cell_type": "markdown",
   "metadata": {},
   "source": [
    "### SVM (Support Vector Machine)\n",
    "\n",
    "## Nonlinearly separable data  (SVM with Gaussian RBF Kernel)\n",
    "\n",
    "The heart disease prediction dataset is an example of nonlinearly separable data because the data points cannot be separated by a linear decision boundary. In other words, it is not possible to draw a straight line that can completely separate the two classes. The SVM with a linear kernel may not be able to correctly classify the data points in this case.\n",
    "\n",
    "To overcome this limitation, we can use a non-linear kernel, such as the Gaussian RBF kernel. The RBF kernel can handle non-linearly separable data by mapping the input features into a higher-dimensional space, where it is possible to find a hyperplane that can separate the classes. The Gaussian RBF kernel is a popular choice for SVMs because it is flexible and can capture complex patterns in the data.\n",
    "\n",
    "Using the Gaussian RBF kernel, the SVM can construct a non-linear decision boundary that can accurately classify the heart disease prediction dataset. This allows for a more accurate prediction of the presence or absence of heart disease based on the input features."
   ]
  },
  {
   "cell_type": "code",
   "execution_count": 75,
   "metadata": {},
   "outputs": [],
   "source": [
    "#Import relevant libraries\n",
    "import numpy as np\n",
    "import pandas as pd\n",
    "import matplotlib.pyplot as plt\n",
    "#Import Support Vector Classifier from library sklearn\n",
    "from sklearn.svm import SVC\n",
    "from sklearn.decomposition import PCA\n",
    "import matplotlib.pyplot as plt\n",
    "from sklearn.model_selection import cross_val_score\n",
    "from sklearn.metrics import confusion_matrix,  classification_report"
   ]
  },
  {
   "cell_type": "code",
   "execution_count": 66,
   "metadata": {},
   "outputs": [
    {
     "name": "stdout",
     "output_type": "stream",
     "text": [
      "297\n",
      "13\n"
     ]
    }
   ],
   "source": [
    "# Column 1: age in years\n",
    "# Column 2: 1 = male, 0 = female\n",
    "# Column 3: 1 = typical angina, 2 = atypical angina, 3 = non-anginal pain, 4 = asymptomatic\n",
    "# Column 4: resting blood pressure in mmHg\n",
    "# Column 5: in mg/dl\n",
    "# Column 6: 1 means > 120 mg/dl, 0 means <= 120 mg/dl\n",
    "# Column 7: resting electrocardiographic, 0 = normal, 1 = having ST-T wave abnormality, 2 = showing probable or definite left ventricular hypertrophy by Estes' criteria\n",
    "# Column 8: max heart rate achieved\n",
    "# Column 9: 1 = yes, 2 = no\n",
    "# Column 10: ST depression induced by exercise relative to rest\n",
    "# Column 11: slope of the peak exercise ST segment, 1 = upsloping, 2 = flat, 3 = downsloping\n",
    "# Column 12: number of major vessels (0-3) colored by flourosopy\n",
    "# Column 13: 3 = normal, 6 = fixed defect, 7 = reversable defect\n",
    "# Column 14: >=1 means heart disease, 0 = no heart disease\n",
    "\n",
    "myNames = [\"age\", # column 1\n",
    "        \"sex\", # col 2\n",
    "        \"chestPainType\", # col 3\n",
    "        \"restingBP\", # col 4\n",
    "        \"serumCholesterol\", # col 5\n",
    "        \"fastingBloodSugar\", # col 6\n",
    "        \"restingEcg\", # col 7\n",
    "        \"maxHeartRate\", # col 8\n",
    "        \"exerciseInducedAngina\", # col 9\n",
    "        \"stDepression\", # col 10\n",
    "        \"stSlope\", # col 11\n",
    "        \"majorVessels\", # col 12\n",
    "        \"thalassemia\", # col 13\n",
    "        \"diagnosis\"] # col 14\n",
    "assert len(myNames) == 14\n",
    "data=pd.read_csv(\"data/processed.cleveland.data\", sep=',', names=myNames, na_values=[\"?\", '?'])\n",
    "data = data.dropna() # Drop rows with missing data\n",
    "\n",
    "# Convert all columns to float\n",
    "for name in myNames:\n",
    "    data[name] = pd.to_numeric(data[name],errors = 'coerce')\n",
    "\n",
    "X = data.values[:, :-1]\n",
    "y = data.values[:, -1:]\n",
    "y = np.clip(y, a_min=0, a_max=1) # Clip values in the array to be between 0 and 1, both inclusive\n",
    "\n",
    "m = data.shape[0] # num examples\n",
    "n = data.shape[1] - 1 # num features\n",
    "\n",
    "print(m)\n",
    "print(n)"
   ]
  },
  {
   "cell_type": "code",
   "execution_count": 72,
   "metadata": {},
   "outputs": [
    {
     "data": {
      "text/plain": [
       "<matplotlib.legend.Legend at 0x7ffb4fdf3610>"
      ]
     },
     "execution_count": 72,
     "metadata": {},
     "output_type": "execute_result"
    },
    {
     "data": {
      "image/png": "[encoded data removed]",
      "text/plain": [
       "<Figure size 640x480 with 1 Axes>"
      ]
     },
     "metadata": {},
     "output_type": "display_data"
    }
   ],
   "source": [
    "#PLot the data as in Fig.1 \n",
    "# Weird output -> don't know the reason yet\n",
    "pos2 = y==1\n",
    "neg2 = y==0\n",
    "\n",
    "plt.scatter(X[pos2[:,0],0],X[pos2[:,0],1],c=\"r\",marker=\"+\")\n",
    "plt.scatter(X[neg2[:,0],0],X[neg2[:,0],1],c=\"b\",marker=\"o\")\n",
    "plt.legend([\"Positive Examples\", \"Negative Examples\"], loc =\"lower left\") \n"
   ]
  },
  {
   "cell_type": "code",
   "execution_count": 68,
   "metadata": {},
   "outputs": [],
   "source": [
    "# Normalize the data\n",
    "# The purpose of normalization is to scale the input features so that they have similar ranges and magnitudes. \n",
    "# This can help improve the accuracy and speed of the learning algorithm.\n",
    "mean = np.mean(X, axis=0)\n",
    "std = np.std(X, axis=0)\n",
    "X = (X - mean) / std"
   ]
  },
  {
   "cell_type": "code",
   "execution_count": 78,
   "metadata": {},
   "outputs": [],
   "source": [
    "from sklearn.model_selection import train_test_split\n",
    "\n",
    "X_train, X_val, y_train, y_val = train_test_split(X, y, test_size=0.2, random_state=42)"
   ]
  },
  {
   "attachments": {},
   "cell_type": "markdown",
   "metadata": {},
   "source": [
    "### Gaussian SVM training\n",
    "\n",
    "Choose *rbf* (Radial Basis Function) kernel, which corresponds to Gaussian kernel. \n",
    "\n",
    "**gamma** parameter is the inverse of the standard deviation of the RBF kernel (gamma = $1/\\sigma$). \n",
    "**gamma** is used as a similarity measure between two points. \n",
    "\n",
    "Small gamma value defines a Gaussian function with a large variance => two points are considered similar even if they are relatively far away from each other. \n",
    "\n",
    "Large gamma value defines a Gaussian function with a small variance => two points are considered similar if they are very close to each other."
   ]
  },
  {
   "cell_type": "code",
   "execution_count": 79,
   "metadata": {},
   "outputs": [
    {
     "name": "stdout",
     "output_type": "stream",
     "text": [
      "Training accuracy: 1.00\n",
      "Validation accuracy: 0.60\n",
      "Cross-validation accuracy on training data: 0.52 (+/- 0.01)\n",
      "Confusion Matrix:\n",
      "                Predicted No    Predicted Yes\n",
      "Actual No        36               0\n",
      "Actual Yes       24               0\n",
      "\n",
      "Classification Report:\n",
      "              precision    recall  f1-score   support\n",
      "\n",
      "         0.0       0.60      1.00      0.75        36\n",
      "         1.0       0.00      0.00      0.00        24\n",
      "\n",
      "    accuracy                           0.60        60\n",
      "   macro avg       0.30      0.50      0.37        60\n",
      "weighted avg       0.36      0.60      0.45        60\n",
      "\n"
     ]
    },
    {
     "name": "stderr",
     "output_type": "stream",
     "text": [
      "/home/nudibranch/.local/lib/python3.10/site-packages/sklearn/metrics/_classification.py:1344: UndefinedMetricWarning: Precision and F-score are ill-defined and being set to 0.0 in labels with no predicted samples. Use `zero_division` parameter to control this behavior.\n",
      "  _warn_prf(average, modifier, msg_start, len(result))\n",
      "/home/nudibranch/.local/lib/python3.10/site-packages/sklearn/metrics/_classification.py:1344: UndefinedMetricWarning: Precision and F-score are ill-defined and being set to 0.0 in labels with no predicted samples. Use `zero_division` parameter to control this behavior.\n",
      "  _warn_prf(average, modifier, msg_start, len(result))\n",
      "/home/nudibranch/.local/lib/python3.10/site-packages/sklearn/metrics/_classification.py:1344: UndefinedMetricWarning: Precision and F-score are ill-defined and being set to 0.0 in labels with no predicted samples. Use `zero_division` parameter to control this behavior.\n",
      "  _warn_prf(average, modifier, msg_start, len(result))\n"
     ]
    }
   ],
   "source": [
    "# Declare the classifier\n",
    "classifier = SVC(kernel='rbf', gamma=100, C=1)\n",
    "\n",
    "# Train the classifier on training data\n",
    "classifier.fit(X_train, np.ravel(y_train))\n",
    "\n",
    "# Get the classifier accuracy on training data\n",
    "train_accuracy = classifier.score(X_train, y_train)\n",
    "print(f\"Training accuracy: {train_accuracy:.2f}\")\n",
    "\n",
    "# Get the classifier accuracy on validation data\n",
    "val_accuracy = classifier.score(X_val, y_val)\n",
    "print(f\"Validation accuracy: {val_accuracy:.2f}\")\n",
    "\n",
    "# Train and evaluate the classifier using k-fold cross-validation on training data\n",
    "scores = cross_val_score(classifier, X_train, np.ravel(y_train), cv=5)\n",
    "\n",
    "# Print the average score and the standard deviation of the scores\n",
    "print(f\"Cross-validation accuracy on training data: {scores.mean():.2f} (+/- {scores.std():.2f})\")\n",
    "\n",
    "# Predict the class labels for the test set\n",
    "y_pred = classifier.predict(X_val)\n",
    "\n",
    "# Compute the confusion matrix\n",
    "cm = confusion_matrix(y_val, y_pred)\n",
    "tn, fp, fn, tp = cm.ravel()\n",
    "\n",
    "# Print confusion matrix with labels\n",
    "print(\"Confusion Matrix:\")\n",
    "print(\"                Predicted No    Predicted Yes\")\n",
    "print(f\"Actual No        {tn}               {fp}\")\n",
    "print(f\"Actual Yes       {fn}               {tp}\")\n",
    "\n",
    "# Generate classification report\n",
    "cr = classification_report(y_val, y_pred)\n",
    "\n",
    "print(\"\\nClassification Report:\")\n",
    "print(cr)\n"
   ]
  },
  {
   "cell_type": "code",
   "execution_count": 80,
   "metadata": {},
   "outputs": [
    {
     "name": "stdout",
     "output_type": "stream",
     "text": [
      "1.0\n",
      "Classifier accuracy: 1.0\n",
      "Cross-validation accuracy: 0.54 (+/- 0.00)\n",
      "Cross-validation accuracy: 0.54 (+/- 0.00)\n",
      "Confusion Matrix:\n",
      "                Predicted No    Predicted Yes\n",
      "Actual No         160              0\n",
      "Actual Yes        0               137\n",
      "\n",
      "Classification Report:\n",
      "              precision    recall  f1-score   support\n",
      "\n",
      "         0.0       1.00      1.00      1.00       160\n",
      "         1.0       1.00      1.00      1.00       137\n",
      "\n",
      "    accuracy                           1.00       297\n",
      "   macro avg       1.00      1.00      1.00       297\n",
      "weighted avg       1.00      1.00      1.00       297\n",
      "\n"
     ]
    }
   ],
   "source": [
    "# Repeat SVM training for C = 100\n",
    "\n",
    "#Declare the classifier \n",
    "classifier = SVC(kernel='rbf',gamma =10, C=100)\n",
    "\n",
    "#Train the classifier \n",
    "#sklearn works with rank one arrays, \n",
    "classifier.fit(X,np.ravel(y))\n",
    "\n",
    "#Get the classifier accuracy \n",
    "print(classifier.score(X,y))\n",
    "# Get the classifier accuracy\n",
    "print(f\"Classifier accuracy: {classifier.score(X, y)}\")\n",
    "\n",
    "#Train and evaluate the classifier using k-fold cross-validation\n",
    "scores = cross_val_score(classifier, X, np.ravel(y), cv=5)\n",
    "\n",
    "#Print the average score and the standard deviation of the scores\n",
    "print(f\"Cross-validation accuracy: {scores.mean():.2f} (+/- {scores.std():.2f})\")\n",
    "\n",
    "# Print the average score and the standard deviation of the scores\n",
    "print(f\"Cross-validation accuracy: {scores.mean():.2f} (+/- {scores.std():.2f})\")\n",
    "\n",
    "# Predict the class labels for the test set\n",
    "y_pred = classifier.predict(X)\n",
    "\n",
    "# Compute the confusion matrix\n",
    "cm = confusion_matrix(y, y_pred)\n",
    "tn, fp, fn, tp = cm.ravel()\n",
    "\n",
    "# Print confusion matrix with labels\n",
    "print(\"Confusion Matrix:\")\n",
    "print(\"                Predicted No    Predicted Yes\")\n",
    "print(\"Actual No        \", tn, \"            \", fp)\n",
    "print(\"Actual Yes       \", fn, \"             \", tp)\n",
    "\n",
    "# Generate classification report\n",
    "cr = classification_report(y, y_pred)\n",
    "\n",
    "print(\"\\nClassification Report:\")\n",
    "print(cr)"
   ]
  },
  {
   "attachments": {},
   "cell_type": "markdown",
   "metadata": {},
   "source": [
    "### Hyperparameter tuning"
   ]
  },
  {
   "cell_type": "code",
   "execution_count": 82,
   "metadata": {},
   "outputs": [],
   "source": [
    "def dataset3Params(X, y, Xval, yval,vals):\n",
    "    \"\"\"\n",
    "    dataset3Params returns the optimal C and gamma(1/sigma) based on a cross-validation set.\n",
    "    \"\"\"\n",
    "    acc = 0\n",
    "    best_C=0\n",
    "    best_gamma=0\n",
    "    for i in vals:\n",
    "        C= i\n",
    "        for j in vals:\n",
    "            gamma = 1/j\n",
    "            classifier = SVC(C=C,gamma=gamma)\n",
    "            classifier.fit(X,y)\n",
    "            prediction = classifier.predict(Xval)\n",
    "            score = classifier.score(Xval,yval)\n",
    "            if score>acc:\n",
    "                acc =score\n",
    "                best_C =C\n",
    "                best_gamma=gamma\n",
    "    return best_C, best_gamma"
   ]
  },
  {
   "cell_type": "code",
   "execution_count": 83,
   "metadata": {},
   "outputs": [
    {
     "name": "stdout",
     "output_type": "stream",
     "text": [
      "1\n",
      "100.0\n"
     ]
    }
   ],
   "source": [
    "#What are the best C and sigma ?\n",
    "vals = [0.01, 0.03, 0.1, 0.3, 1, 3, 10, 30]\n",
    "\n",
    "best_C, best_gamma = dataset3Params(X, y.ravel(), X_val, y_val.ravel(),vals)\n",
    "print(best_C)\n",
    "print(best_gamma)"
   ]
  }
 ],
 "metadata": {
  "kernelspec": {
   "display_name": "Python 3",
   "language": "python",
   "name": "python3"
  },
  "language_info": {
   "codemirror_mode": {
    "name": "ipython",
    "version": 3
   },
   "file_extension": ".py",
   "mimetype": "text/x-python",
   "name": "python",
   "nbconvert_exporter": "python",
   "pygments_lexer": "ipython3",
   "version": "3.10.9"
  },
  "orig_nbformat": 4,
  "vscode": {
   "interpreter": {
    "hash": "d2152fd7f0bbc62aa1baff8c990435d1e2c7175d001561303988032604c11a48"
   }
  }
 },
 "nbformat": 4,
 "nbformat_minor": 2
}
